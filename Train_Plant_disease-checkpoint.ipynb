{
 "cells": [
  {
   "cell_type": "markdown",
   "id": "2808412f",
   "metadata": {},
   "source": [
    "# Importing Libraries"
   ]
  },
  {
   "cell_type": "code",
   "execution_count": 1,
   "id": "99b1440d",
   "metadata": {},
   "outputs": [
    {
     "name": "stdout",
     "output_type": "stream",
     "text": [
      "WARNING:tensorflow:From C:\\Users\\Pranav\\AppData\\Local\\Programs\\Python\\Python310\\lib\\site-packages\\keras\\src\\losses.py:2976: The name tf.losses.sparse_softmax_cross_entropy is deprecated. Please use tf.compat.v1.losses.sparse_softmax_cross_entropy instead.\n",
      "\n"
     ]
    }
   ],
   "source": [
    "import tensorflow as tf\n",
    "import matplotlib.pyplot as plt\n",
    "import pandas as pd\n",
    "import seaborn as sns"
   ]
  },
  {
   "cell_type": "markdown",
   "id": "fec616f0",
   "metadata": {},
   "source": [
    "# Data Preprocessing"
   ]
  },
  {
   "cell_type": "markdown",
   "id": "40fd6ef2",
   "metadata": {},
   "source": [
    "### Training Image Preprocessing"
   ]
  },
  {
   "cell_type": "code",
   "execution_count": 2,
   "id": "3da6557d",
   "metadata": {},
   "outputs": [
    {
     "name": "stdout",
     "output_type": "stream",
     "text": [
      "Found 70295 files belonging to 38 classes.\n"
     ]
    }
   ],
   "source": [
    "training_set = tf.keras.utils.image_dataset_from_directory(\n",
    "    'train',\n",
    "    labels=\"inferred\",\n",
    "    label_mode=\"categorical\",\n",
    "    class_names=None,\n",
    "    color_mode=\"rgb\",\n",
    "    batch_size=32,\n",
    "    image_size=(128, 128),\n",
    "    shuffle=True,\n",
    "    seed=None,\n",
    "    validation_split=None,\n",
    "    subset=None,\n",
    "    interpolation=\"bilinear\",\n",
    "    follow_links=False,\n",
    "    crop_to_aspect_ratio=False\n",
    ")"
   ]
  },
  {
   "cell_type": "markdown",
   "id": "1428c73e",
   "metadata": {},
   "source": [
    "### Validation Image Preprocessing"
   ]
  },
  {
   "cell_type": "code",
   "execution_count": 3,
   "id": "cebb7810",
   "metadata": {},
   "outputs": [
    {
     "name": "stdout",
     "output_type": "stream",
     "text": [
      "Found 17572 files belonging to 38 classes.\n"
     ]
    }
   ],
   "source": [
    "validation_set = tf.keras.utils.image_dataset_from_directory(\n",
    "    'valid',\n",
    "    labels=\"inferred\",\n",
    "    label_mode=\"categorical\",\n",
    "    class_names=None,\n",
    "    color_mode=\"rgb\",\n",
    "    batch_size=32,\n",
    "    image_size=(128, 128),\n",
    "    shuffle=True,\n",
    "    seed=None,\n",
    "    validation_split=None,\n",
    "    subset=None,\n",
    "    interpolation=\"bilinear\",\n",
    "    follow_links=False,\n",
    "    crop_to_aspect_ratio=False\n",
    ")"
   ]
  },
  {
   "cell_type": "code",
   "execution_count": 4,
   "id": "1b038662",
   "metadata": {},
   "outputs": [
    {
     "name": "stdout",
     "output_type": "stream",
     "text": [
      "tf.Tensor(\n",
      "[[[[161.75 165.75 164.75]\n",
      "   [153.75 157.75 156.75]\n",
      "   [153.75 157.75 156.75]\n",
      "   ...\n",
      "   [164.75 168.75 167.75]\n",
      "   [164.25 168.25 167.25]\n",
      "   [166.75 170.75 169.75]]\n",
      "\n",
      "  [[162.25 166.25 165.25]\n",
      "   [159.75 163.75 162.75]\n",
      "   [159.75 163.75 162.75]\n",
      "   ...\n",
      "   [165.5  169.5  168.5 ]\n",
      "   [162.75 166.75 165.75]\n",
      "   [166.25 170.25 169.25]]\n",
      "\n",
      "  [[157.5  161.5  160.5 ]\n",
      "   [158.75 162.75 161.75]\n",
      "   [158.75 162.75 161.75]\n",
      "   ...\n",
      "   [164.5  168.5  167.5 ]\n",
      "   [159.75 163.75 162.75]\n",
      "   [162.5  166.5  165.5 ]]\n",
      "\n",
      "  ...\n",
      "\n",
      "  [[159.25 164.25 158.25]\n",
      "   [161.   166.   160.  ]\n",
      "   [159.5  164.5  158.5 ]\n",
      "   ...\n",
      "   [166.25 170.25 169.25]\n",
      "   [164.25 168.25 167.25]\n",
      "   [156.   160.   159.  ]]\n",
      "\n",
      "  [[162.   167.   161.  ]\n",
      "   [164.25 169.25 163.25]\n",
      "   [162.5  167.5  161.5 ]\n",
      "   ...\n",
      "   [156.25 160.25 159.25]\n",
      "   [160.   164.   163.  ]\n",
      "   [163.5  167.5  166.5 ]]\n",
      "\n",
      "  [[159.   164.   158.  ]\n",
      "   [157.5  162.5  156.5 ]\n",
      "   [156.   161.   155.  ]\n",
      "   ...\n",
      "   [154.75 158.75 157.75]\n",
      "   [154.25 158.25 157.25]\n",
      "   [155.5  159.5  158.5 ]]]\n",
      "\n",
      "\n",
      " [[[109.75  99.75  97.75]\n",
      "   [110.75 100.75  98.75]\n",
      "   [120.   110.   108.  ]\n",
      "   ...\n",
      "   [112.5  102.5  101.5 ]\n",
      "   [109.    99.    98.  ]\n",
      "   [106.    96.    95.  ]]\n",
      "\n",
      "  [[114.25 104.25 102.25]\n",
      "   [114.5  104.5  102.5 ]\n",
      "   [107.    97.    95.  ]\n",
      "   ...\n",
      "   [114.   104.   103.  ]\n",
      "   [115.   105.   104.  ]\n",
      "   [120.   110.   109.  ]]\n",
      "\n",
      "  [[110.75 100.75  98.75]\n",
      "   [113.25 103.25 101.25]\n",
      "   [115.   105.   103.  ]\n",
      "   ...\n",
      "   [120.25 110.25 109.25]\n",
      "   [121.   111.   110.  ]\n",
      "   [116.   106.   105.  ]]\n",
      "\n",
      "  ...\n",
      "\n",
      "  [[168.   162.   164.  ]\n",
      "   [171.   165.   167.  ]\n",
      "   [205.5  199.5  201.5 ]\n",
      "   ...\n",
      "   [153.75 146.75 153.75]\n",
      "   [155.   148.   155.  ]\n",
      "   [167.75 160.75 167.75]]\n",
      "\n",
      "  [[175.   169.   171.  ]\n",
      "   [200.   194.   196.  ]\n",
      "   [179.   173.   175.  ]\n",
      "   ...\n",
      "   [144.5  137.5  144.5 ]\n",
      "   [144.25 137.25 144.25]\n",
      "   [162.   155.   162.  ]]\n",
      "\n",
      "  [[172.5  166.5  168.5 ]\n",
      "   [171.25 165.25 167.25]\n",
      "   [179.75 173.75 175.75]\n",
      "   ...\n",
      "   [159.75 152.75 159.75]\n",
      "   [162.25 155.25 162.25]\n",
      "   [152.75 145.75 152.75]]]\n",
      "\n",
      "\n",
      " [[[184.75 166.75 166.75]\n",
      "   [185.25 167.25 167.25]\n",
      "   [200.   182.   182.  ]\n",
      "   ...\n",
      "   [157.25 137.25 136.25]\n",
      "   [151.5  131.5  130.5 ]\n",
      "   [148.75 128.75 127.75]]\n",
      "\n",
      "  [[175.75 157.75 157.75]\n",
      "   [196.75 178.75 178.75]\n",
      "   [165.   147.   147.  ]\n",
      "   ...\n",
      "   [171.75 151.75 150.75]\n",
      "   [157.5  137.5  136.5 ]\n",
      "   [155.75 135.75 134.75]]\n",
      "\n",
      "  [[178.   160.   160.  ]\n",
      "   [158.5  140.5  140.5 ]\n",
      "   [160.25 142.25 142.25]\n",
      "   ...\n",
      "   [168.5  148.5  147.5 ]\n",
      "   [167.5  147.5  146.5 ]\n",
      "   [172.75 152.75 151.75]]\n",
      "\n",
      "  ...\n",
      "\n",
      "  [[156.75 137.75 139.75]\n",
      "   [167.5  148.5  150.5 ]\n",
      "   [160.5  141.5  143.5 ]\n",
      "   ...\n",
      "   [159.   139.   141.  ]\n",
      "   [148.5  128.5  130.5 ]\n",
      "   [151.   131.   133.  ]]\n",
      "\n",
      "  [[155.   136.   138.  ]\n",
      "   [157.   138.   140.  ]\n",
      "   [147.25 128.25 130.25]\n",
      "   ...\n",
      "   [153.75 133.75 135.75]\n",
      "   [140.75 120.75 122.75]\n",
      "   [163.25 143.25 145.25]]\n",
      "\n",
      "  [[161.25 142.25 144.25]\n",
      "   [163.5  144.5  146.5 ]\n",
      "   [155.5  136.5  138.5 ]\n",
      "   ...\n",
      "   [143.75 123.75 125.75]\n",
      "   [145.5  125.5  127.5 ]\n",
      "   [127.75 107.75 109.75]]]\n",
      "\n",
      "\n",
      " ...\n",
      "\n",
      "\n",
      " [[[171.25 166.25 170.25]\n",
      "   [161.5  156.5  160.5 ]\n",
      "   [167.5  162.5  166.5 ]\n",
      "   ...\n",
      "   [111.   106.   103.  ]\n",
      "   [108.75 103.75 100.75]\n",
      "   [116.5  111.5  108.5 ]]\n",
      "\n",
      "  [[158.25 153.25 157.25]\n",
      "   [167.25 162.25 166.25]\n",
      "   [160.5  155.5  159.5 ]\n",
      "   ...\n",
      "   [113.25 108.25 105.25]\n",
      "   [110.5  105.5  102.5 ]\n",
      "   [107.75 102.75  99.75]]\n",
      "\n",
      "  [[159.75 154.75 158.75]\n",
      "   [161.25 156.25 160.25]\n",
      "   [164.25 159.25 163.25]\n",
      "   ...\n",
      "   [123.25 118.25 115.25]\n",
      "   [110.   105.   102.  ]\n",
      "   [120.5  115.5  112.5 ]]\n",
      "\n",
      "  ...\n",
      "\n",
      "  [[ 56.5   70.5   33.  ]\n",
      "   [ 60.5   73.    36.25]\n",
      "   [ 73.5   85.25  51.  ]\n",
      "   ...\n",
      "   [ 71.5   79.    58.5 ]\n",
      "   [ 63.    74.25  50.75]\n",
      "   [ 65.75  78.5   52.  ]]\n",
      "\n",
      "  [[ 67.75  88.    47.75]\n",
      "   [ 54.5   74.75  34.5 ]\n",
      "   [ 81.25 101.25  60.5 ]\n",
      "   ...\n",
      "   [ 44.75  42.25  33.25]\n",
      "   [ 41.    39.75  28.25]\n",
      "   [ 48.    47.5   36.  ]]\n",
      "\n",
      "  [[ 55.5   81.    41.75]\n",
      "   [ 50.    75.5   36.25]\n",
      "   [ 48.25  72.5   32.75]\n",
      "   ...\n",
      "   [ 45.25  36.25  34.25]\n",
      "   [ 43.25  34.25  32.25]\n",
      "   [ 44.    35.5   31.5 ]]]\n",
      "\n",
      "\n",
      " [[[ 57.75  95.75  46.75]\n",
      "   [ 38.    76.    27.  ]\n",
      "   [ 27.25  65.25  18.25]\n",
      "   ...\n",
      "   [ 41.25  66.75  26.  ]\n",
      "   [ 44.5   78.25  32.5 ]\n",
      "   [ 46.25  84.    36.75]]\n",
      "\n",
      "  [[ 55.5   93.5   44.5 ]\n",
      "   [ 32.5   70.5   21.5 ]\n",
      "   [ 24.25  62.25  15.25]\n",
      "   ...\n",
      "   [ 35.75  52.25  11.25]\n",
      "   [ 37.75  63.25  17.5 ]\n",
      "   [ 43.5   73.    25.25]]\n",
      "\n",
      "  [[ 62.75 100.75  51.75]\n",
      "   [ 38.25  76.25  27.25]\n",
      "   [ 31.5   69.5   22.5 ]\n",
      "   ...\n",
      "   [ 39.75  49.    13.  ]\n",
      "   [ 33.5   50.75  11.75]\n",
      "   [ 33.    54.5   12.75]]\n",
      "\n",
      "  ...\n",
      "\n",
      "  [[115.5  150.    87.5 ]\n",
      "   [114.75 148.75  87.75]\n",
      "   [131.75 165.75 105.75]\n",
      "   ...\n",
      "   [111.5  151.    95.75]\n",
      "   [102.   143.25  83.25]\n",
      "   [101.25 144.75  82.5 ]]\n",
      "\n",
      "  [[ 90.   122.    57.  ]\n",
      "   [ 91.75 123.75  60.75]\n",
      "   [ 93.5  127.5   66.5 ]\n",
      "   ...\n",
      "   [117.75 159.    99.5 ]\n",
      "   [103.5  148.25  83.  ]\n",
      "   [ 95.75 142.25  73.5 ]]\n",
      "\n",
      "  [[122.75 154.75  87.75]\n",
      "   [111.75 143.75  78.75]\n",
      "   [ 94.5  129.25  66.  ]\n",
      "   ...\n",
      "   [123.5  166.25 104.25]\n",
      "   [108.5  154.75  87.75]\n",
      "   [ 94.25 143.5   71.75]]]\n",
      "\n",
      "\n",
      " [[[255.   255.   255.  ]\n",
      "   [255.   255.   255.  ]\n",
      "   [255.   255.   255.  ]\n",
      "   ...\n",
      "   [255.   255.   255.  ]\n",
      "   [255.   255.   255.  ]\n",
      "   [255.   255.   255.  ]]\n",
      "\n",
      "  [[255.   255.   255.  ]\n",
      "   [255.   255.   255.  ]\n",
      "   [255.   255.   255.  ]\n",
      "   ...\n",
      "   [255.   255.   255.  ]\n",
      "   [255.   255.   255.  ]\n",
      "   [255.   255.   255.  ]]\n",
      "\n",
      "  [[255.   255.   255.  ]\n",
      "   [255.   255.   255.  ]\n",
      "   [255.   255.   255.  ]\n",
      "   ...\n",
      "   [255.   255.   255.  ]\n",
      "   [255.   255.   255.  ]\n",
      "   [255.   255.   255.  ]]\n",
      "\n",
      "  ...\n",
      "\n",
      "  [[233.   233.   234.  ]\n",
      "   [245.25 245.25 246.75]\n",
      "   [225.5  225.5  227.5 ]\n",
      "   ...\n",
      "   [249.5  249.5  249.5 ]\n",
      "   [249.75 249.75 249.75]\n",
      "   [254.5  254.5  254.5 ]]\n",
      "\n",
      "  [[236.5  236.5  238.  ]\n",
      "   [251.   251.   253.  ]\n",
      "   [224.75 224.75 226.75]\n",
      "   ...\n",
      "   [252.75 252.75 252.75]\n",
      "   [250.75 250.75 250.75]\n",
      "   [250.75 250.75 250.75]]\n",
      "\n",
      "  [[249.   249.   250.  ]\n",
      "   [240.25 240.25 241.25]\n",
      "   [236.75 236.75 237.75]\n",
      "   ...\n",
      "   [253.25 253.25 253.25]\n",
      "   [254.25 254.25 254.25]\n",
      "   [248.   248.   248.  ]]]], shape=(32, 128, 128, 3), dtype=float32) (32, 128, 128, 3)\n",
      "tf.Tensor(\n",
      "[[0. 0. 0. ... 1. 0. 0.]\n",
      " [0. 0. 0. ... 0. 0. 0.]\n",
      " [0. 0. 0. ... 0. 0. 0.]\n",
      " ...\n",
      " [0. 0. 0. ... 0. 0. 0.]\n",
      " [0. 0. 0. ... 0. 0. 0.]\n",
      " [0. 0. 0. ... 0. 0. 1.]], shape=(32, 38), dtype=float32) (32, 38)\n"
     ]
    }
   ],
   "source": [
    "for x,y in training_set:\n",
    "    print(x, x.shape)\n",
    "    print(y, y.shape)\n",
    "    break"
   ]
  },
  {
   "cell_type": "raw",
   "id": "57ccc9fb",
   "metadata": {},
   "source": [
    "(32, 128, 128, 3) represent that we are providing 32 images at once to train our model, of each image of size 128 x 128\n",
    "3 represent rgb"
   ]
  },
  {
   "cell_type": "markdown",
   "id": "236f75a4",
   "metadata": {},
   "source": [
    "# Building Model"
   ]
  },
  {
   "cell_type": "code",
   "execution_count": 5,
   "id": "afd9fd10",
   "metadata": {},
   "outputs": [],
   "source": [
    "from tensorflow.keras.layers import Dense,Conv2D,MaxPool2D, Flatten\n",
    "from tensorflow.keras.models import Sequential"
   ]
  },
  {
   "cell_type": "code",
   "execution_count": 6,
   "id": "87f8f0db",
   "metadata": {},
   "outputs": [
    {
     "name": "stdout",
     "output_type": "stream",
     "text": [
      "WARNING:tensorflow:From C:\\Users\\Pranav\\AppData\\Local\\Programs\\Python\\Python310\\lib\\site-packages\\keras\\src\\backend.py:873: The name tf.get_default_graph is deprecated. Please use tf.compat.v1.get_default_graph instead.\n",
      "\n"
     ]
    }
   ],
   "source": [
    "model = tf.keras.models.Sequential()"
   ]
  },
  {
   "cell_type": "markdown",
   "id": "b65d1270",
   "metadata": {},
   "source": [
    "## Building Convolutional Layer"
   ]
  },
  {
   "cell_type": "code",
   "execution_count": 7,
   "id": "f35b19fc",
   "metadata": {},
   "outputs": [
    {
     "name": "stdout",
     "output_type": "stream",
     "text": [
      "WARNING:tensorflow:From C:\\Users\\Pranav\\AppData\\Local\\Programs\\Python\\Python310\\lib\\site-packages\\keras\\src\\layers\\pooling\\max_pooling2d.py:161: The name tf.nn.max_pool is deprecated. Please use tf.nn.max_pool2d instead.\n",
      "\n"
     ]
    }
   ],
   "source": [
    "model.add(tf.keras.layers.Conv2D(filters=32,kernel_size=3,padding='same',activation='relu',input_shape=[128,128,3]))\n",
    "model.add(tf.keras.layers.Conv2D(filters=32,kernel_size=3,activation='relu'))\n",
    "model.add(tf.keras.layers.MaxPool2D(pool_size=2,strides=2))"
   ]
  },
  {
   "cell_type": "code",
   "execution_count": 8,
   "id": "3c30af2b",
   "metadata": {},
   "outputs": [],
   "source": [
    "model.add(tf.keras.layers.Conv2D(filters=64,kernel_size=3,padding='same',activation='relu'))\n",
    "model.add(tf.keras.layers.Conv2D(filters=64,kernel_size=3,activation='relu'))\n",
    "model.add(tf.keras.layers.MaxPool2D(pool_size=2,strides=2))"
   ]
  },
  {
   "cell_type": "code",
   "execution_count": 9,
   "id": "c63f9bb2",
   "metadata": {},
   "outputs": [],
   "source": [
    "model.add(tf.keras.layers.Conv2D(filters=128,kernel_size=3,padding='same',activation='relu'))\n",
    "model.add(tf.keras.layers.Conv2D(filters=128,kernel_size=3,activation='relu'))\n",
    "model.add(tf.keras.layers.MaxPool2D(pool_size=2,strides=2))"
   ]
  },
  {
   "cell_type": "code",
   "execution_count": 10,
   "id": "e661eb6d",
   "metadata": {},
   "outputs": [],
   "source": [
    "model.add(tf.keras.layers.Conv2D(filters=256,kernel_size=3,padding='same',activation='relu'))\n",
    "model.add(tf.keras.layers.Conv2D(filters=256,kernel_size=3,activation='relu'))\n",
    "model.add(tf.keras.layers.MaxPool2D(pool_size=2,strides=2))"
   ]
  },
  {
   "cell_type": "code",
   "execution_count": 11,
   "id": "a70bc91a",
   "metadata": {},
   "outputs": [],
   "source": [
    "model.add(tf.keras.layers.Conv2D(filters=512,kernel_size=3,padding='same',activation='relu'))\n",
    "model.add(tf.keras.layers.Conv2D(filters=512,kernel_size=3,activation='relu'))\n",
    "model.add(tf.keras.layers.MaxPool2D(pool_size=2,strides=2))"
   ]
  },
  {
   "cell_type": "code",
   "execution_count": 12,
   "id": "c20cca9e",
   "metadata": {},
   "outputs": [],
   "source": [
    "model.add(tf.keras.layers.Dropout(0.25))"
   ]
  },
  {
   "cell_type": "code",
   "execution_count": 13,
   "id": "3e8b8f41",
   "metadata": {},
   "outputs": [],
   "source": [
    "model.add(Flatten())"
   ]
  },
  {
   "cell_type": "code",
   "execution_count": 14,
   "id": "7454f29a",
   "metadata": {},
   "outputs": [],
   "source": [
    "model.add(tf.keras.layers.Flatten())     # Hidden layer"
   ]
  },
  {
   "cell_type": "code",
   "execution_count": 15,
   "id": "e4083e02",
   "metadata": {},
   "outputs": [],
   "source": [
    "model.add(tf.keras.layers.Dense(units=1500,activation='relu'))"
   ]
  },
  {
   "cell_type": "code",
   "execution_count": 16,
   "id": "715515ca",
   "metadata": {},
   "outputs": [],
   "source": [
    "model.add(tf.keras.layers.Dropout(0.4)) #To avoid overfitting"
   ]
  },
  {
   "cell_type": "code",
   "execution_count": 17,
   "id": "6a3efb61",
   "metadata": {},
   "outputs": [],
   "source": [
    "#Output Layer\n",
    "model.add(tf.keras.layers.Dense(units=38,activation='softmax'))\n",
    "\n",
    "# here we have 38 classes. So, we need 38 diffrent outputs. In which model will predict  probability  of each class"
   ]
  },
  {
   "cell_type": "markdown",
   "id": "efd35535",
   "metadata": {},
   "source": [
    "### Compiling Model"
   ]
  },
  {
   "cell_type": "code",
   "execution_count": 18,
   "id": "f97760f5",
   "metadata": {},
   "outputs": [],
   "source": [
    "model.compile(optimizer=tf.keras.optimizers.legacy.Adam(\n",
    "    learning_rate=0.0001),loss='categorical_crossentropy',metrics=['accuracy'])"
   ]
  },
  {
   "cell_type": "code",
   "execution_count": 19,
   "id": "8c361e65",
   "metadata": {},
   "outputs": [
    {
     "name": "stdout",
     "output_type": "stream",
     "text": [
      "Model: \"sequential\"\n",
      "_________________________________________________________________\n",
      " Layer (type)                Output Shape              Param #   \n",
      "=================================================================\n",
      " conv2d (Conv2D)             (None, 128, 128, 32)      896       \n",
      "                                                                 \n",
      " conv2d_1 (Conv2D)           (None, 126, 126, 32)      9248      \n",
      "                                                                 \n",
      " max_pooling2d (MaxPooling2  (None, 63, 63, 32)        0         \n",
      " D)                                                              \n",
      "                                                                 \n",
      " conv2d_2 (Conv2D)           (None, 63, 63, 64)        18496     \n",
      "                                                                 \n",
      " conv2d_3 (Conv2D)           (None, 61, 61, 64)        36928     \n",
      "                                                                 \n",
      " max_pooling2d_1 (MaxPoolin  (None, 30, 30, 64)        0         \n",
      " g2D)                                                            \n",
      "                                                                 \n",
      " conv2d_4 (Conv2D)           (None, 30, 30, 128)       73856     \n",
      "                                                                 \n",
      " conv2d_5 (Conv2D)           (None, 28, 28, 128)       147584    \n",
      "                                                                 \n",
      " max_pooling2d_2 (MaxPoolin  (None, 14, 14, 128)       0         \n",
      " g2D)                                                            \n",
      "                                                                 \n",
      " conv2d_6 (Conv2D)           (None, 14, 14, 256)       295168    \n",
      "                                                                 \n",
      " conv2d_7 (Conv2D)           (None, 12, 12, 256)       590080    \n",
      "                                                                 \n",
      " max_pooling2d_3 (MaxPoolin  (None, 6, 6, 256)         0         \n",
      " g2D)                                                            \n",
      "                                                                 \n",
      " conv2d_8 (Conv2D)           (None, 6, 6, 512)         1180160   \n",
      "                                                                 \n",
      " conv2d_9 (Conv2D)           (None, 4, 4, 512)         2359808   \n",
      "                                                                 \n",
      " max_pooling2d_4 (MaxPoolin  (None, 2, 2, 512)         0         \n",
      " g2D)                                                            \n",
      "                                                                 \n",
      " dropout (Dropout)           (None, 2, 2, 512)         0         \n",
      "                                                                 \n",
      " flatten (Flatten)           (None, 2048)              0         \n",
      "                                                                 \n",
      " flatten_1 (Flatten)         (None, 2048)              0         \n",
      "                                                                 \n",
      " dense (Dense)               (None, 1500)              3073500   \n",
      "                                                                 \n",
      " dropout_1 (Dropout)         (None, 1500)              0         \n",
      "                                                                 \n",
      " dense_1 (Dense)             (None, 38)                57038     \n",
      "                                                                 \n",
      "=================================================================\n",
      "Total params: 7842762 (29.92 MB)\n",
      "Trainable params: 7842762 (29.92 MB)\n",
      "Non-trainable params: 0 (0.00 Byte)\n",
      "_________________________________________________________________\n"
     ]
    }
   ],
   "source": [
    "model.summary()"
   ]
  },
  {
   "cell_type": "markdown",
   "id": "f1bee4f0",
   "metadata": {},
   "source": [
    "# Model Training"
   ]
  },
  {
   "cell_type": "code",
   "execution_count": 20,
   "id": "e57ee2a3",
   "metadata": {},
   "outputs": [
    {
     "name": "stdout",
     "output_type": "stream",
     "text": [
      "Epoch 1/5\n",
      "WARNING:tensorflow:From C:\\Users\\Pranav\\AppData\\Local\\Programs\\Python\\Python310\\lib\\site-packages\\keras\\src\\utils\\tf_utils.py:492: The name tf.ragged.RaggedTensorValue is deprecated. Please use tf.compat.v1.ragged.RaggedTensorValue instead.\n",
      "\n",
      "WARNING:tensorflow:From C:\\Users\\Pranav\\AppData\\Local\\Programs\\Python\\Python310\\lib\\site-packages\\keras\\src\\engine\\base_layer_utils.py:384: The name tf.executing_eagerly_outside_functions is deprecated. Please use tf.compat.v1.executing_eagerly_outside_functions instead.\n",
      "\n",
      "2197/2197 [==============================] - 3098s 1s/step - loss: 1.4231 - accuracy: 0.5815 - val_loss: 0.6353 - val_accuracy: 0.8009\n",
      "Epoch 2/5\n",
      "2197/2197 [==============================] - 2949s 1s/step - loss: 0.4629 - accuracy: 0.8538 - val_loss: 0.2819 - val_accuracy: 0.9096\n",
      "Epoch 3/5\n",
      "2197/2197 [==============================] - 1406s 640ms/step - loss: 0.2694 - accuracy: 0.9135 - val_loss: 0.2188 - val_accuracy: 0.9293\n",
      "Epoch 4/5\n",
      "2197/2197 [==============================] - 1382s 629ms/step - loss: 0.1888 - accuracy: 0.9373 - val_loss: 0.1798 - val_accuracy: 0.9419\n",
      "Epoch 5/5\n",
      "2197/2197 [==============================] - 1380s 628ms/step - loss: 0.1371 - accuracy: 0.9556 - val_loss: 0.1357 - val_accuracy: 0.9568\n"
     ]
    }
   ],
   "source": [
    "training_history = model.fit(x=training_set,validation_data=validation_set,epochs=5)"
   ]
  },
  {
   "cell_type": "markdown",
   "id": "d26c31cd",
   "metadata": {},
   "source": [
    "## Evaluating Model"
   ]
  },
  {
   "cell_type": "code",
   "execution_count": 21,
   "id": "9892e551",
   "metadata": {},
   "outputs": [
    {
     "name": "stdout",
     "output_type": "stream",
     "text": [
      "2197/2197 [==============================] - 449s 204ms/step - loss: 0.0607 - accuracy: 0.9792\n",
      "Training accuracy: 0.9792304039001465\n"
     ]
    }
   ],
   "source": [
    "#Training set Accuracy\n",
    "train_loss, train_acc = model.evaluate(training_set)\n",
    "print('Training accuracy:', train_acc)"
   ]
  },
  {
   "cell_type": "code",
   "execution_count": 22,
   "id": "b6e58e55",
   "metadata": {},
   "outputs": [
    {
     "name": "stdout",
     "output_type": "stream",
     "text": [
      "550/550 [==============================] - 112s 204ms/step - loss: 0.1357 - accuracy: 0.9568\n",
      "Validation accuracy: 0.9568063020706177\n"
     ]
    }
   ],
   "source": [
    "#Validation set Accuracy\n",
    "val_loss, val_acc = model.evaluate(validation_set)\n",
    "print('Validation accuracy:', val_acc)"
   ]
  },
  {
   "cell_type": "markdown",
   "id": "83f7c164",
   "metadata": {},
   "source": [
    "## Saving model"
   ]
  },
  {
   "cell_type": "code",
   "execution_count": 23,
   "id": "a093d53a",
   "metadata": {},
   "outputs": [],
   "source": [
    "model.save('trained_plant_disease_model.keras')"
   ]
  },
  {
   "cell_type": "code",
   "execution_count": 24,
   "id": "7c260775",
   "metadata": {},
   "outputs": [
    {
     "data": {
      "text/plain": [
       "{'loss': [1.4231003522872925,\n",
       "  0.4629010260105133,\n",
       "  0.2693886458873749,\n",
       "  0.18879064917564392,\n",
       "  0.13712555170059204],\n",
       " 'accuracy': [0.5815491676330566,\n",
       "  0.8537733554840088,\n",
       "  0.9135358333587646,\n",
       "  0.9373070597648621,\n",
       "  0.9555729627609253],\n",
       " 'val_loss': [0.6353306174278259,\n",
       "  0.2819306254386902,\n",
       "  0.21880778670310974,\n",
       "  0.17975668609142303,\n",
       "  0.13569307327270508],\n",
       " 'val_accuracy': [0.800933301448822,\n",
       "  0.9096289277076721,\n",
       "  0.9292624592781067,\n",
       "  0.9418962001800537,\n",
       "  0.9568063020706177]}"
      ]
     },
     "execution_count": 24,
     "metadata": {},
     "output_type": "execute_result"
    }
   ],
   "source": [
    "training_history.history #Return Dictionary of data of history"
   ]
  },
  {
   "cell_type": "code",
   "execution_count": 25,
   "id": "5106f980",
   "metadata": {},
   "outputs": [],
   "source": [
    "#Recording History in json\n",
    "import json\n",
    "with open('training_hist.json','w') as f:\n",
    "  json.dump(training_history.history,f)"
   ]
  },
  {
   "cell_type": "code",
   "execution_count": 26,
   "id": "06002ccc",
   "metadata": {},
   "outputs": [
    {
     "name": "stdout",
     "output_type": "stream",
     "text": [
      "dict_keys(['loss', 'accuracy', 'val_loss', 'val_accuracy'])\n"
     ]
    }
   ],
   "source": [
    "print(training_history.history.keys())"
   ]
  },
  {
   "cell_type": "markdown",
   "id": "75e19f27",
   "metadata": {},
   "source": [
    "## Accuracy Visualization"
   ]
  },
  {
   "cell_type": "code",
   "execution_count": 28,
   "id": "722f739f",
   "metadata": {},
   "outputs": [
    {
     "data": {
      "image/png": "[encoded data removed]",
      "text/plain": [
       "<Figure size 432x288 with 1 Axes>"
      ]
     },
     "metadata": {
      "needs_background": "light"
     },
     "output_type": "display_data"
    }
   ],
   "source": [
    "epochs = [i for i in range(1,6)]\n",
    "plt.plot(epochs,training_history.history['accuracy'],color='red',label='Training Accuracy')\n",
    "plt.plot(epochs,training_history.history['val_accuracy'],color='blue',label='Validation Accuracy')\n",
    "plt.xlabel('No. of Epochs')\n",
    "plt.title('Visualization of Accuracy Result')\n",
    "plt.legend()\n",
    "plt.show()"
   ]
  },
  {
   "cell_type": "markdown",
   "id": "521f643e",
   "metadata": {},
   "source": [
    "## Some other metrics for model evaluation"
   ]
  },
  {
   "cell_type": "code",
   "execution_count": 29,
   "id": "073ffdcb",
   "metadata": {},
   "outputs": [],
   "source": [
    "class_name = validation_set.class_names"
   ]
  },
  {
   "cell_type": "code",
   "execution_count": 30,
   "id": "50ea8e11",
   "metadata": {},
   "outputs": [
    {
     "name": "stdout",
     "output_type": "stream",
     "text": [
      "Found 17572 files belonging to 38 classes.\n"
     ]
    }
   ],
   "source": [
    "test_set = tf.keras.utils.image_dataset_from_directory(\n",
    "    'valid',\n",
    "    labels=\"inferred\",\n",
    "    label_mode=\"categorical\",\n",
    "    class_names=None,\n",
    "    color_mode=\"rgb\",\n",
    "    batch_size=1,\n",
    "    image_size=(128, 128),\n",
    "    shuffle=False,\n",
    "    seed=None,\n",
    "    validation_split=None,\n",
    "    subset=None,\n",
    "    interpolation=\"bilinear\",\n",
    "    follow_links=False,\n",
    "    crop_to_aspect_ratio=False\n",
    ")"
   ]
  },
  {
   "cell_type": "code",
   "execution_count": null,
   "id": "57f4f172",
   "metadata": {},
   "outputs": [],
   "source": []
  },
  {
   "cell_type": "code",
   "execution_count": 31,
   "id": "456d0e87",
   "metadata": {},
   "outputs": [
    {
     "name": "stdout",
     "output_type": "stream",
     "text": [
      "17572/17572 [==============================] - 421s 24ms/step\n"
     ]
    }
   ],
   "source": [
    "y_pred = model.predict(test_set)\n",
    "predicted_categories = tf.argmax(y_pred, axis=1)"
   ]
  },
  {
   "cell_type": "code",
   "execution_count": 32,
   "id": "992f143a",
   "metadata": {},
   "outputs": [
    {
     "data": {
      "text/plain": [
       "<tf.Tensor: shape=(17572,), dtype=int64, numpy=array([ 0,  0,  0, ..., 37, 37, 37], dtype=int64)>"
      ]
     },
     "execution_count": 32,
     "metadata": {},
     "output_type": "execute_result"
    }
   ],
   "source": [
    "predicted_categories"
   ]
  },
  {
   "cell_type": "code",
   "execution_count": 33,
   "id": "17051ca5",
   "metadata": {},
   "outputs": [
    {
     "data": {
      "text/plain": [
       "(array([[9.9932289e-01, 5.4884760e-04, 1.8111135e-07, ..., 2.7873336e-11,\n",
       "         8.7629640e-11, 1.5356271e-09],\n",
       "        [9.9948573e-01, 5.1112816e-04, 3.4372098e-07, ..., 2.9254669e-12,\n",
       "         4.0382673e-11, 6.2891137e-11],\n",
       "        [9.9999738e-01, 2.4708452e-06, 1.2085942e-08, ..., 4.8153891e-15,\n",
       "         2.9804715e-13, 4.1772458e-12],\n",
       "        ...,\n",
       "        [1.5632254e-09, 5.4093036e-13, 1.6593992e-08, ..., 7.4731603e-11,\n",
       "         5.0035881e-10, 9.9999380e-01],\n",
       "        [1.3214791e-08, 1.9943788e-12, 4.3267864e-08, ..., 1.0073043e-10,\n",
       "         1.3739423e-09, 9.9999869e-01],\n",
       "        [4.9664374e-12, 2.3253291e-13, 1.1921028e-10, ..., 9.5348751e-13,\n",
       "         2.3580904e-09, 9.9999607e-01]], dtype=float32),\n",
       " (17572, 38))"
      ]
     },
     "execution_count": 33,
     "metadata": {},
     "output_type": "execute_result"
    }
   ],
   "source": [
    "y_pred, y_pred.shape"
   ]
  },
  {
   "cell_type": "code",
   "execution_count": 34,
   "id": "a354bfa1",
   "metadata": {},
   "outputs": [],
   "source": [
    "true_categories = tf.concat([y for x, y in test_set], axis=0)\n",
    "Y_true = tf.argmax(true_categories, axis=1)"
   ]
  },
  {
   "cell_type": "code",
   "execution_count": 35,
   "id": "c1af93fd",
   "metadata": {},
   "outputs": [
    {
     "data": {
      "text/plain": [
       "<tf.Tensor: shape=(17572,), dtype=int64, numpy=array([ 0,  0,  0, ..., 37, 37, 37], dtype=int64)>"
      ]
     },
     "execution_count": 35,
     "metadata": {},
     "output_type": "execute_result"
    }
   ],
   "source": [
    "Y_true"
   ]
  },
  {
   "cell_type": "code",
   "execution_count": null,
   "id": "26ba7a41",
   "metadata": {},
   "outputs": [],
   "source": []
  },
  {
   "cell_type": "code",
   "execution_count": 36,
   "id": "4c668e4c",
   "metadata": {},
   "outputs": [],
   "source": [
    "from sklearn.metrics import confusion_matrix,classification_report\n",
    "cm = confusion_matrix(Y_true,predicted_categories)"
   ]
  },
  {
   "cell_type": "code",
   "execution_count": 37,
   "id": "43b73067",
   "metadata": {},
   "outputs": [
    {
     "name": "stdout",
     "output_type": "stream",
     "text": [
      "                                                    precision    recall  f1-score   support\n",
      "\n",
      "                                Apple___Apple_scab       0.96      0.93      0.95       504\n",
      "                                 Apple___Black_rot       0.90      0.99      0.95       497\n",
      "                          Apple___Cedar_apple_rust       0.92      0.99      0.95       440\n",
      "                                   Apple___healthy       0.96      0.95      0.95       502\n",
      "                               Blueberry___healthy       0.96      0.97      0.97       454\n",
      "          Cherry_(including_sour)___Powdery_mildew       0.97      0.99      0.98       421\n",
      "                 Cherry_(including_sour)___healthy       0.96      1.00      0.98       456\n",
      "Corn_(maize)___Cercospora_leaf_spot Gray_leaf_spot       0.94      0.88      0.91       410\n",
      "                       Corn_(maize)___Common_rust_       0.99      0.99      0.99       477\n",
      "               Corn_(maize)___Northern_Leaf_Blight       0.91      0.97      0.94       477\n",
      "                            Corn_(maize)___healthy       0.99      1.00      1.00       465\n",
      "                                 Grape___Black_rot       0.92      1.00      0.96       472\n",
      "                      Grape___Esca_(Black_Measles)       1.00      0.92      0.96       480\n",
      "        Grape___Leaf_blight_(Isariopsis_Leaf_Spot)       1.00      0.98      0.99       430\n",
      "                                   Grape___healthy       0.99      1.00      0.99       423\n",
      "          Orange___Haunglongbing_(Citrus_greening)       0.96      0.99      0.98       503\n",
      "                            Peach___Bacterial_spot       0.95      0.97      0.96       459\n",
      "                                   Peach___healthy       0.91      1.00      0.95       432\n",
      "                     Pepper,_bell___Bacterial_spot       0.95      0.94      0.94       478\n",
      "                            Pepper,_bell___healthy       0.95      0.95      0.95       497\n",
      "                             Potato___Early_blight       0.99      0.95      0.97       485\n",
      "                              Potato___Late_blight       0.92      0.96      0.94       485\n",
      "                                  Potato___healthy       0.98      0.92      0.95       456\n",
      "                               Raspberry___healthy       0.99      0.99      0.99       445\n",
      "                                 Soybean___healthy       0.99      0.97      0.98       505\n",
      "                           Squash___Powdery_mildew       0.99      0.99      0.99       434\n",
      "                          Strawberry___Leaf_scorch       0.98      0.97      0.98       444\n",
      "                              Strawberry___healthy       0.99      1.00      0.99       456\n",
      "                           Tomato___Bacterial_spot       0.95      0.97      0.96       425\n",
      "                             Tomato___Early_blight       0.86      0.81      0.83       480\n",
      "                              Tomato___Late_blight       0.87      0.91      0.89       463\n",
      "                                Tomato___Leaf_Mold       0.98      0.97      0.97       470\n",
      "                       Tomato___Septoria_leaf_spot       0.96      0.83      0.89       436\n",
      "     Tomato___Spider_mites Two-spotted_spider_mite       0.95      0.97      0.96       435\n",
      "                              Tomato___Target_Spot       0.95      0.84      0.89       457\n",
      "            Tomato___Tomato_Yellow_Leaf_Curl_Virus       0.99      0.98      0.98       490\n",
      "                      Tomato___Tomato_mosaic_virus       0.99      0.98      0.98       448\n",
      "                                  Tomato___healthy       0.98      0.99      0.98       481\n",
      "\n",
      "                                          accuracy                           0.96     17572\n",
      "                                         macro avg       0.96      0.96      0.96     17572\n",
      "                                      weighted avg       0.96      0.96      0.96     17572\n",
      "\n"
     ]
    }
   ],
   "source": [
    "# Precision Recall Fscore\n",
    "print(classification_report(Y_true,predicted_categories,target_names=class_name))"
   ]
  },
  {
   "cell_type": "code",
   "execution_count": null,
   "id": "0c96ab78",
   "metadata": {},
   "outputs": [],
   "source": []
  },
  {
   "cell_type": "markdown",
   "id": "45f3994a",
   "metadata": {},
   "source": [
    "## Confusion Matrix Visualization"
   ]
  },
  {
   "cell_type": "code",
   "execution_count": 38,
   "id": "937bf48e",
   "metadata": {},
   "outputs": [
    {
     "data": {
      "image/png": "[encoded data removed]",
      "text/plain": [
       "<Figure size 2880x2880 with 2 Axes>"
      ]
     },
     "metadata": {
      "needs_background": "light"
     },
     "output_type": "display_data"
    }
   ],
   "source": [
    "plt.figure(figsize=(40, 40))\n",
    "sns.heatmap(cm,annot=True,annot_kws={\"size\": 10})\n",
    "\n",
    "plt.xlabel('Predicted Class',fontsize = 40)\n",
    "plt.ylabel('Actual Class',fontsize = 40)\n",
    "plt.title('Plant Disease Prediction Confusion Matrix',fontsize = 35)\n",
    "plt.show()"
   ]
  },
  {
   "cell_type": "code",
   "execution_count": null,
   "id": "40ace117",
   "metadata": {},
   "outputs": [],
   "source": []
  },
  {
   "cell_type": "markdown",
   "id": "6f390fc8",
   "metadata": {},
   "source": [
    "## "
   ]
  }
 ],
 "metadata": {
  "kernelspec": {
   "display_name": "Python 3 (ipykernel)",
   "language": "python",
   "name": "python3"
  },
  "language_info": {
   "codemirror_mode": {
    "name": "ipython",
    "version": 3
   },
   "file_extension": ".py",
   "mimetype": "text/x-python",
   "name": "python",
   "nbconvert_exporter": "python",
   "pygments_lexer": "ipython3",
   "version": "3.10.5"
  }
 },
 "nbformat": 4,
 "nbformat_minor": 5
}
